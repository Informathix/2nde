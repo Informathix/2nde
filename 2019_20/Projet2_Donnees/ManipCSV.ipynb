{
 "cells": [
  {
   "cell_type": "markdown",
   "metadata": {},
   "source": [
    "# Manipulation de fichiers `csv` avec Python"
   ]
  },
  {
   "cell_type": "markdown",
   "metadata": {},
   "source": [
    "## Extraire un fichier `csv`"
   ]
  },
  {
   "cell_type": "markdown",
   "metadata": {},
   "source": [
    "On commence par récupérer un fichier en ligne avec la commande `urlretrieve` de la bibliothèque `urllib`. On aura aussi besoin d'importer la bibliothèque `csv` :"
   ]
  },
  {
   "cell_type": "code",
   "execution_count": 1,
   "metadata": {},
   "outputs": [],
   "source": [
    "from urllib.request import urlretrieve\n",
    "import csv\n",
    "\n",
    "fichier_paroles_csv, _ = urlretrieve('https://raw.githubusercontent.com/Informathix/2nde/master/2019_20/Projet2_Donnees/ParoleFemmes.csv')"
   ]
  },
  {
   "cell_type": "markdown",
   "metadata": {},
   "source": [
    "Ensuite on transforme ce fichier `csv` en une liste de lignes exploitables par Python:"
   ]
  },
  {
   "cell_type": "code",
   "execution_count": 2,
   "metadata": {},
   "outputs": [],
   "source": [
    "lecteur_paroles = csv.DictReader(open(fichier_paroles_csv, 'r', encoding='utf8'))\n",
    "paroles = [dict(ligne) for ligne in lecteur_paroles]"
   ]
  },
  {
   "cell_type": "markdown",
   "metadata": {},
   "source": [
    "Chaque ligne est numérotée (attention, la numérotation commence à 0):"
   ]
  },
  {
   "cell_type": "code",
   "execution_count": 3,
   "metadata": {},
   "outputs": [
    {
     "data": {
      "text/plain": [
       "{'media_type': 'radio',\n",
       " 'channel_name': 'Chérie FM',\n",
       " 'is_public_channel': 'False',\n",
       " 'year': '2002',\n",
       " 'women_expression_rate': '47.10994424236209',\n",
       " 'speech_rate': '15.738694355458852',\n",
       " 'nb_hours_analyzed': '718.0'}"
      ]
     },
     "execution_count": 3,
     "metadata": {},
     "output_type": "execute_result"
    }
   ],
   "source": [
    "paroles[0]"
   ]
  },
  {
   "cell_type": "code",
   "execution_count": 4,
   "metadata": {},
   "outputs": [
    {
     "data": {
      "text/plain": [
       "{'media_type': 'radio',\n",
       " 'channel_name': 'Chérie FM',\n",
       " 'is_public_channel': 'False',\n",
       " 'year': '2003',\n",
       " 'women_expression_rate': '46.03444471353921',\n",
       " 'speech_rate': '16.250258185942855',\n",
       " 'nb_hours_analyzed': '1617.0'}"
      ]
     },
     "execution_count": 4,
     "metadata": {},
     "output_type": "execute_result"
    }
   ],
   "source": [
    "paroles[1]"
   ]
  },
  {
   "cell_type": "markdown",
   "metadata": {},
   "source": [
    "Pour avoir l'ensemble des descripteurs :"
   ]
  },
  {
   "cell_type": "code",
   "execution_count": 5,
   "metadata": {},
   "outputs": [
    {
     "data": {
      "text/plain": [
       "['media_type',\n",
       " 'channel_name',\n",
       " 'is_public_channel',\n",
       " 'year',\n",
       " 'women_expression_rate',\n",
       " 'speech_rate',\n",
       " 'nb_hours_analyzed']"
      ]
     },
     "execution_count": 5,
     "metadata": {},
     "output_type": "execute_result"
    }
   ],
   "source": [
    "[descripteur for descripteur in paroles[0]]"
   ]
  },
  {
   "cell_type": "markdown",
   "metadata": {},
   "source": [
    "## Manipulation des données\n",
    "\n",
    "Voici par exemple un moyen d'obtenir l'ensemble des noms des radios."
   ]
  },
  {
   "cell_type": "code",
   "execution_count": 6,
   "metadata": {},
   "outputs": [],
   "source": [
    "radios = {\n",
    "    ligne['channel_name'] \n",
    "    for ligne in paroles \n",
    "    if ligne['media_type'] == 'radio' \n",
    "}"
   ]
  },
  {
   "cell_type": "code",
   "execution_count": 7,
   "metadata": {},
   "outputs": [
    {
     "data": {
      "text/plain": [
       "{'Chérie FM',\n",
       " 'Europe 1',\n",
       " 'France Bleu',\n",
       " 'France Culture',\n",
       " 'France Info',\n",
       " 'France Inter',\n",
       " 'France Musique',\n",
       " 'Fun Radio',\n",
       " 'MOUV',\n",
       " 'NRJ',\n",
       " 'Nostalgie',\n",
       " 'RFI',\n",
       " 'RFM',\n",
       " 'RMC',\n",
       " 'RTL',\n",
       " 'RTL 2',\n",
       " 'Radio Classique',\n",
       " 'Rire et Chansons',\n",
       " 'Skyrock',\n",
       " 'Sud Radio',\n",
       " 'Virgin Radio'}"
      ]
     },
     "execution_count": 7,
     "metadata": {},
     "output_type": "execute_result"
    }
   ],
   "source": [
    "radios"
   ]
  },
  {
   "cell_type": "markdown",
   "metadata": {},
   "source": [
    "Quel est l'ensemble des chaînes de TV analysées ? "
   ]
  },
  {
   "cell_type": "code",
   "execution_count": null,
   "metadata": {},
   "outputs": [],
   "source": []
  },
  {
   "cell_type": "markdown",
   "metadata": {},
   "source": [
    "Quelle radio a offert le plus grand taux de parole aux femmes en 2017 et quel était ce taux ?"
   ]
  },
  {
   "cell_type": "code",
   "execution_count": 8,
   "metadata": {},
   "outputs": [
    {
     "data": {
      "text/plain": [
       "('54.119721666465516', 'Chérie FM')"
      ]
     },
     "execution_count": 8,
     "metadata": {},
     "output_type": "execute_result"
    }
   ],
   "source": [
    "max(\n",
    "    {\n",
    "        (ligne['women_expression_rate'], ligne['channel_name']) \n",
    "        for ligne in paroles \n",
    "        if ligne['media_type'] == 'radio'\n",
    "    }\n",
    ")"
   ]
  },
  {
   "cell_type": "markdown",
   "metadata": {},
   "source": [
    "Quelle télévision a offert le plus petit taux de parole aux femmes en 2019 et quel était ce taux ? "
   ]
  },
  {
   "cell_type": "code",
   "execution_count": null,
   "metadata": {},
   "outputs": [],
   "source": []
  },
  {
   "cell_type": "markdown",
   "metadata": {},
   "source": [
    "Quelle radio publique a offert le plus petit taux de parole aux femmes en 2019 et quel était ce taux ?"
   ]
  },
  {
   "cell_type": "code",
   "execution_count": null,
   "metadata": {},
   "outputs": [],
   "source": []
  },
  {
   "cell_type": "markdown",
   "metadata": {},
   "source": [
    "Quelle radio publique a offert le plus petit taux de parole aux femmes en 2019 et quel était ce taux ?"
   ]
  },
  {
   "cell_type": "code",
   "execution_count": null,
   "metadata": {},
   "outputs": [],
   "source": []
  },
  {
   "cell_type": "markdown",
   "metadata": {},
   "source": [
    "Imaginez d'autres questions et répondez-y"
   ]
  },
  {
   "cell_type": "code",
   "execution_count": null,
   "metadata": {},
   "outputs": [],
   "source": []
  },
  {
   "cell_type": "markdown",
   "metadata": {},
   "source": [
    "On peut visualiser des résultats"
   ]
  },
  {
   "cell_type": "code",
   "execution_count": 10,
   "metadata": {},
   "outputs": [
    {
     "data": {
      "text/plain": [
       "[<matplotlib.lines.Line2D at 0x7f74b1130e50>]"
      ]
     },
     "execution_count": 10,
     "metadata": {},
     "output_type": "execute_result"
    },
    {
     "data": {
      "image/png": "[encoded data removed]",
      "text/plain": [
       "<Figure size 432x288 with 1 Axes>"
      ]
     },
     "metadata": {
      "needs_background": "light"
     },
     "output_type": "display_data"
    }
   ],
   "source": [
    "from matplotlib.pyplot import plot\n",
    "\n",
    "taux_cheri = [float(ligne['women_expression_rate']) \n",
    "              for ligne in paroles \n",
    "              if ligne['channel_name'] == 'Chérie FM']\n",
    "\n",
    "annee_cheri = [ligne['year'] \n",
    "               for ligne in paroles \n",
    "               if ligne['channel_name'] == 'Chérie FM']\n",
    "\n",
    "plot(annee_cheri, taux_cheri, 'g--o') # g comme Green, -- comme tirets, o comme rond"
   ]
  },
  {
   "cell_type": "code",
   "execution_count": null,
   "metadata": {},
   "outputs": [],
   "source": []
  },
  {
   "cell_type": "code",
   "execution_count": null,
   "metadata": {},
   "outputs": [],
   "source": []
  }
 ],
 "metadata": {
  "kernelspec": {
   "display_name": "Python 3",
   "language": "python",
   "name": "python3"
  },
  "language_info": {
   "codemirror_mode": {
    "name": "ipython",
    "version": 3
   },
   "file_extension": ".py",
   "mimetype": "text/x-python",
   "name": "python",
   "nbconvert_exporter": "python",
   "pygments_lexer": "ipython3",
   "version": "3.7.5"
  }
 },
 "nbformat": 4,
 "nbformat_minor": 4
}
